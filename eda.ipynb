{
 "cells": [
  {
   "cell_type": "code",
   "execution_count": 1,
   "id": "37805fbd-ff5a-4f5b-be8b-12e8e6b22e81",
   "metadata": {},
   "outputs": [],
   "source": [
    "# BASE\n",
    "# ------------------------------------------------------\n",
    "import numpy as np\n",
    "import pandas as pd\n",
    "import os\n",
    "import gc\n",
    "import warnings\n",
    "\n",
    "# PACF - ACF\n",
    "# ------------------------------------------------------\n",
    "import statsmodels.api as sm\n",
    "\n",
    "# DATA VISUALIZATION\n",
    "# ------------------------------------------------------\n",
    "import matplotlib.pyplot as plt\n",
    "import seaborn as sns\n",
    "import plotly.express as px\n"
   ]
  },
  {
   "cell_type": "code",
   "execution_count": null,
   "id": "b5a7d612-578a-45d9-adea-38cfde1735f9",
   "metadata": {},
   "outputs": [],
   "source": []
  }
 ],
 "metadata": {
  "kernelspec": {
   "display_name": "Python (3.11)",
   "language": "python",
   "name": "your_custom_kernel_name"
  },
  "language_info": {
   "codemirror_mode": {
    "name": "ipython",
    "version": 3
   },
   "file_extension": ".py",
   "mimetype": "text/x-python",
   "name": "python",
   "nbconvert_exporter": "python",
   "pygments_lexer": "ipython3",
   "version": "3.10.2"
  }
 },
 "nbformat": 4,
 "nbformat_minor": 5
}
